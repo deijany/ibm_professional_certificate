{
 "cells": [
  {
   "cell_type": "markdown",
   "metadata": {},
   "source": [
    "<center>\n",
    "    <img src=\"https://cf-courses-data.s3.us.cloud-object-storage.appdomain.cloud/IBMDeveloperSkillsNetwork-PY0220EN-SkillsNetwork/labs/project/Images/SN_logo.png\" width=\"300\" alt=\"cognitiveclass.ai logo\">\n",
    "</center>\n"
   ]
  },
  {
   "cell_type": "markdown",
   "metadata": {},
   "source": [
    "<h1>Extracting Stock Data Using a Python Library</h1>\n"
   ]
  },
  {
   "cell_type": "markdown",
   "metadata": {},
   "source": [
    "A company's stock share is a piece of the company more precisely:\n",
    "<p><b>A stock (also known as equity) is a security that represents the ownership of a fraction of a corporation. This\n",
    "entitles the owner of the stock to a proportion of the corporation's assets and profits equal to how much stock they own. Units of stock are called \"shares.\" [1]</p></b>\n",
    "\n",
    "An investor can buy a stock and sell it later. If the stock price increases, the investor profits, If it decreases,the investor with incur a loss.  Determining the stock price is complex; it depends on the number of outstanding shares, the size of the company's future profits, and much more. People trade stocks throughout the day the stock ticker is a report of the price of a certain stock, updated continuously throughout the trading session by the various stock market exchanges. \n",
    "<p>You are a data scientist working for a hedge fund; it's your job to determine any suspicious stock activity. In this lab you will extract stock data using a Python library. We will use the <coode>yfinance</code> library, it allows us to extract data for stocks returning data in a pandas dataframe. You will use the lab to extract.</p>\n"
   ]
  },
  {
   "cell_type": "markdown",
   "metadata": {},
   "source": [
    "<h2>Table of Contents</h2>\n",
    "<div class=\"alert alert-block alert-info\" style=\"margin-top: 20px\">\n",
    "    <ul>\n",
    "        <li>Using yfinance to Extract Stock Info</li>\n",
    "        <li>Using yfinance to Extract Historical Share Price Data</li>\n",
    "        <li>Using yfinance to Extract Historical Dividends Data</li>\n",
    "        <li>Exercise</li>\n",
    "    </ul>\n",
    "<p>\n",
    "    Estimated Time Needed: <strong>30 min</strong></p>\n",
    "</div>\n",
    "\n",
    "<hr>\n"
   ]
  },
  {
   "cell_type": "code",
   "execution_count": 66,
   "metadata": {
    "tags": [],
    "ExecuteTime": {
     "end_time": "2023-12-05T09:28:35.719664Z",
     "start_time": "2023-12-05T09:28:35.713198Z"
    }
   },
   "outputs": [],
   "source": [
    "# !pip install yfinance==0.2.4\n",
    "# !pip install pandas==1.3.3"
   ]
  },
  {
   "cell_type": "code",
   "execution_count": 67,
   "metadata": {
    "tags": [],
    "ExecuteTime": {
     "end_time": "2023-12-05T09:28:36.613735Z",
     "start_time": "2023-12-05T09:28:36.589879Z"
    }
   },
   "outputs": [],
   "source": [
    "import yfinance as yf\n",
    "import pandas as pd\n"
   ]
  },
  {
   "cell_type": "code",
   "execution_count": 67,
   "outputs": [],
   "source": [],
   "metadata": {
    "collapsed": false,
    "ExecuteTime": {
     "end_time": "2023-12-05T09:28:38.956009Z",
     "start_time": "2023-12-05T09:28:38.929883Z"
    }
   }
  },
  {
   "cell_type": "markdown",
   "metadata": {},
   "source": [
    "## Using the yfinance Library to Extract Stock Data\n"
   ]
  },
  {
   "cell_type": "markdown",
   "metadata": {},
   "source": [
    "Using the `Ticker` module we can create an object that will allow us to access functions to extract data. To do this we need to provide the ticker symbol for the stock, here the company is Apple and the ticker symbol is `AAPL`.\n"
   ]
  },
  {
   "cell_type": "code",
   "execution_count": 68,
   "metadata": {
    "tags": [],
    "ExecuteTime": {
     "end_time": "2023-12-05T09:28:45.418896Z",
     "start_time": "2023-12-05T09:28:45.410336Z"
    }
   },
   "outputs": [],
   "source": [
    "apple = yf.Ticker(\"AAPL\")"
   ]
  },
  {
   "cell_type": "markdown",
   "metadata": {},
   "source": [
    "Now we can access functions and variables to extract the type of data we need. You can view them and what they represent here https://aroussi.com/post/python-yahoo-finance.\n"
   ]
  },
  {
   "cell_type": "code",
   "execution_count": 69,
   "metadata": {
    "tags": [],
    "ExecuteTime": {
     "end_time": "2023-12-05T09:28:48.841581Z",
     "start_time": "2023-12-05T09:28:47.580075Z"
    }
   },
   "outputs": [
    {
     "name": "stdout",
     "output_type": "stream",
     "text": [
      "--2023-12-05 10:28:47--  https://cf-courses-data.s3.us.cloud-object-storage.appdomain.cloud/IBMDeveloperSkillsNetwork-PY0220EN-SkillsNetwork/data/apple.json\r\n",
      "Resolving cf-courses-data.s3.us.cloud-object-storage.appdomain.cloud (cf-courses-data.s3.us.cloud-object-storage.appdomain.cloud)... 169.63.118.104\r\n",
      "Connecting to cf-courses-data.s3.us.cloud-object-storage.appdomain.cloud (cf-courses-data.s3.us.cloud-object-storage.appdomain.cloud)|169.63.118.104|:443... connected.\r\n",
      "HTTP request sent, awaiting response... 200 OK\r\n",
      "Length: 5699 (5.6K) [application/json]\r\n",
      "Saving to: ‘apple.json.3’\r\n",
      "\r\n",
      "apple.json.3        100%[===================>]   5.57K  --.-KB/s    in 0s      \r\n",
      "\r\n",
      "2023-12-05 10:28:48 (679 MB/s) - ‘apple.json.3’ saved [5699/5699]\r\n",
      "\r\n"
     ]
    }
   ],
   "source": [
    "!wget https://cf-courses-data.s3.us.cloud-object-storage.appdomain.cloud/IBMDeveloperSkillsNetwork-PY0220EN-SkillsNetwork/data/apple.json"
   ]
  },
  {
   "cell_type": "markdown",
   "metadata": {},
   "source": [
    "### Stock Info\n"
   ]
  },
  {
   "cell_type": "markdown",
   "metadata": {},
   "source": [
    "Using the attribute  <code>info</code> we can extract information about the stock as a Python dictionary.\n"
   ]
  },
  {
   "cell_type": "code",
   "execution_count": 70,
   "metadata": {
    "tags": [],
    "ExecuteTime": {
     "end_time": "2023-12-05T09:28:52.155544Z",
     "start_time": "2023-12-05T09:28:52.140633Z"
    }
   },
   "outputs": [
    {
     "data": {
      "text/plain": "{'zip': '95014',\n 'sector': 'Technology',\n 'fullTimeEmployees': 100000,\n 'longBusinessSummary': 'Apple Inc. designs, manufactures, and markets smartphones, personal computers, tablets, wearables, and accessories worldwide. It also sells various related services. In addition, the company offers iPhone, a line of smartphones; Mac, a line of personal computers; iPad, a line of multi-purpose tablets; AirPods Max, an over-ear wireless headphone; and wearables, home, and accessories comprising AirPods, Apple TV, Apple Watch, Beats products, HomePod, and iPod touch. Further, it provides AppleCare support services; cloud services store services; and operates various platforms, including the App Store that allow customers to discover and download applications and digital content, such as books, music, video, games, and podcasts. Additionally, the company offers various services, such as Apple Arcade, a game subscription service; Apple Music, which offers users a curated listening experience with on-demand radio stations; Apple News+, a subscription news and magazine service; Apple TV+, which offers exclusive original content; Apple Card, a co-branded credit card; and Apple Pay, a cashless payment service, as well as licenses its intellectual property. The company serves consumers, and small and mid-sized businesses; and the education, enterprise, and government markets. It distributes third-party applications for its products through the App Store. The company also sells its products through its retail and online stores, and direct sales force; and third-party cellular network carriers, wholesalers, retailers, and resellers. Apple Inc. was incorporated in 1977 and is headquartered in Cupertino, California.',\n 'city': 'Cupertino',\n 'phone': '408 996 1010',\n 'state': 'CA',\n 'country': 'United States',\n 'companyOfficers': [],\n 'website': 'https://www.apple.com',\n 'maxAge': 1,\n 'address1': 'One Apple Park Way',\n 'industry': 'Consumer Electronics',\n 'ebitdaMargins': 0.33890998,\n 'profitMargins': 0.26579002,\n 'grossMargins': 0.43019,\n 'operatingCashflow': 112241000448,\n 'revenueGrowth': 0.112,\n 'operatingMargins': 0.309,\n 'ebitda': 128217997312,\n 'targetLowPrice': 160,\n 'recommendationKey': 'buy',\n 'grossProfits': 152836000000,\n 'freeCashflow': 80153247744,\n 'targetMedianPrice': 199.5,\n 'currentPrice': 177.77,\n 'earningsGrowth': 0.25,\n 'currentRatio': 1.038,\n 'returnOnAssets': 0.19875,\n 'numberOfAnalystOpinions': 44,\n 'targetMeanPrice': 193.53,\n 'debtToEquity': 170.714,\n 'returnOnEquity': 1.45567,\n 'targetHighPrice': 215,\n 'totalCash': 63913000960,\n 'totalDebt': 122797998080,\n 'totalRevenue': 378323009536,\n 'totalCashPerShare': 3.916,\n 'financialCurrency': 'USD',\n 'revenuePerShare': 22.838,\n 'quickRatio': 0.875,\n 'recommendationMean': 1.8,\n 'exchange': 'NMS',\n 'shortName': 'Apple Inc.',\n 'longName': 'Apple Inc.',\n 'exchangeTimezoneName': 'America/New_York',\n 'exchangeTimezoneShortName': 'EDT',\n 'isEsgPopulated': False,\n 'gmtOffSetMilliseconds': '-14400000',\n 'quoteType': 'EQUITY',\n 'symbol': 'AAPL',\n 'messageBoardId': 'finmb_24937',\n 'market': 'us_market',\n 'annualHoldingsTurnover': None,\n 'enterpriseToRevenue': 7.824,\n 'beta3Year': None,\n 'enterpriseToEbitda': 23.086,\n '52WeekChange': 0.4549594,\n 'morningStarRiskRating': None,\n 'forwardEps': 6.56,\n 'revenueQuarterlyGrowth': None,\n 'sharesOutstanding': 16319399936,\n 'fundInceptionDate': None,\n 'annualReportExpenseRatio': None,\n 'totalAssets': None,\n 'bookValue': 4.402,\n 'sharesShort': 111286790,\n 'sharesPercentSharesOut': 0.0068,\n 'fundFamily': None,\n 'lastFiscalYearEnd': 1632528000,\n 'heldPercentInstitutions': 0.59397,\n 'netIncomeToCommon': 100554997760,\n 'trailingEps': 6.015,\n 'lastDividendValue': 0.22,\n 'SandP52WeekChange': 0.15217662,\n 'priceToBook': 40.38392,\n 'heldPercentInsiders': 0.0007,\n 'nextFiscalYearEnd': 1695600000,\n 'yield': None,\n 'mostRecentQuarter': 1640390400,\n 'shortRatio': 1.21,\n 'sharesShortPreviousMonthDate': 1644883200,\n 'floatShares': 16302795170,\n 'beta': 1.185531,\n 'enterpriseValue': 2959991898112,\n 'priceHint': 2,\n 'threeYearAverageReturn': None,\n 'lastSplitDate': 1598832000,\n 'lastSplitFactor': '4:1',\n 'legalType': None,\n 'lastDividendDate': 1643932800,\n 'morningStarOverallRating': None,\n 'earningsQuarterlyGrowth': 0.204,\n 'priceToSalesTrailing12Months': 7.668314,\n 'dateShortInterest': 1647302400,\n 'pegRatio': 1.94,\n 'ytdReturn': None,\n 'forwardPE': 27.099087,\n 'lastCapGain': None,\n 'shortPercentOfFloat': 0.0068,\n 'sharesShortPriorMonth': 108944701,\n 'impliedSharesOutstanding': 0,\n 'category': None,\n 'fiveYearAverageReturn': None,\n 'previousClose': 178.96,\n 'regularMarketOpen': 178.55,\n 'twoHundredDayAverage': 156.03505,\n 'trailingAnnualDividendYield': 0.004833482,\n 'payoutRatio': 0.1434,\n 'volume24Hr': None,\n 'regularMarketDayHigh': 179.61,\n 'navPrice': None,\n 'averageDailyVolume10Day': 93823630,\n 'regularMarketPreviousClose': 178.96,\n 'fiftyDayAverage': 166.498,\n 'trailingAnnualDividendRate': 0.865,\n 'open': 178.55,\n 'toCurrency': None,\n 'averageVolume10days': 93823630,\n 'expireDate': None,\n 'algorithm': None,\n 'dividendRate': 0.88,\n 'exDividendDate': 1643932800,\n 'circulatingSupply': None,\n 'startDate': None,\n 'regularMarketDayLow': 176.7,\n 'currency': 'USD',\n 'trailingPE': 29.55445,\n 'regularMarketVolume': 92633154,\n 'lastMarket': None,\n 'maxSupply': None,\n 'openInterest': None,\n 'marketCap': 2901099675648,\n 'volumeAllCurrencies': None,\n 'strikePrice': None,\n 'averageVolume': 95342043,\n 'dayLow': 176.7,\n 'ask': 178.53,\n 'askSize': 800,\n 'volume': 92633154,\n 'fiftyTwoWeekHigh': 182.94,\n 'fromCurrency': None,\n 'fiveYearAvgDividendYield': 1.13,\n 'fiftyTwoWeekLow': 122.25,\n 'bid': 178.4,\n 'tradeable': False,\n 'dividendYield': 0.005,\n 'bidSize': 3200,\n 'dayHigh': 179.61,\n 'regularMarketPrice': 177.77,\n 'preMarketPrice': 178.38,\n 'logo_url': 'https://logo.clearbit.com/apple.com'}"
     },
     "execution_count": 70,
     "metadata": {},
     "output_type": "execute_result"
    }
   ],
   "source": [
    "import json\n",
    "with open('apple.json') as json_file:\n",
    "    apple_info = json.load(json_file)\n",
    "    # Print the type of data variable    \n",
    "    #print(\"Type:\", type(apple_info))\n",
    "apple_info"
   ]
  },
  {
   "cell_type": "markdown",
   "metadata": {},
   "source": [
    "We can get the <code>'country'</code> using the key country\n"
   ]
  },
  {
   "cell_type": "code",
   "execution_count": 71,
   "metadata": {
    "tags": [],
    "ExecuteTime": {
     "end_time": "2023-12-05T09:28:54.082688Z",
     "start_time": "2023-12-05T09:28:54.058528Z"
    }
   },
   "outputs": [
    {
     "data": {
      "text/plain": "'United States'"
     },
     "execution_count": 71,
     "metadata": {},
     "output_type": "execute_result"
    }
   ],
   "source": [
    "apple_info['country']"
   ]
  },
  {
   "cell_type": "markdown",
   "metadata": {},
   "source": [
    "### Extracting Share Price\n"
   ]
  },
  {
   "cell_type": "markdown",
   "metadata": {},
   "source": [
    "A share is the single smallest part of a company's stock  that you can buy, the prices of these shares fluctuate over time. Using the <code>history()</code> method we can get the share price of the stock over a certain period of time. Using the `period` parameter we can set how far back from the present to get data. The options for `period` are 1 day (1d), 5d, 1 month (1mo) , 3mo, 6mo, 1 year (1y), 2y, 5y, 10y, ytd, and max.\n"
   ]
  },
  {
   "cell_type": "code",
   "execution_count": 72,
   "metadata": {
    "tags": [],
    "ExecuteTime": {
     "end_time": "2023-12-05T09:28:56.926155Z",
     "start_time": "2023-12-05T09:28:56.255156Z"
    }
   },
   "outputs": [],
   "source": [
    "apple_share_price_data = apple.history(period=\"max\")"
   ]
  },
  {
   "cell_type": "markdown",
   "metadata": {},
   "source": [
    "The format that the data is returned in is a Pandas DataFrame. With the `Date` as the index the share `Open`, `High`, `Low`, `Close`, `Volume`, and `Stock Splits` are given for each day.\n"
   ]
  },
  {
   "cell_type": "code",
   "execution_count": 73,
   "metadata": {
    "tags": [],
    "ExecuteTime": {
     "end_time": "2023-12-05T09:28:58.063979Z",
     "start_time": "2023-12-05T09:28:58.040554Z"
    }
   },
   "outputs": [
    {
     "data": {
      "text/plain": "                Open      High       Low     Close     Volume  Dividends  \\\nDate                                                                       \n1980-12-12  0.099319  0.099750  0.099319  0.099319  469033600        0.0   \n1980-12-15  0.094569  0.094569  0.094137  0.094137  175884800        0.0   \n1980-12-16  0.087659  0.087659  0.087228  0.087228  105728000        0.0   \n1980-12-17  0.089387  0.089818  0.089387  0.089387   86441600        0.0   \n1980-12-18  0.091978  0.092410  0.091978  0.091978   73449600        0.0   \n\n            Stock Splits  \nDate                      \n1980-12-12           0.0  \n1980-12-15           0.0  \n1980-12-16           0.0  \n1980-12-17           0.0  \n1980-12-18           0.0  ",
      "text/html": "<div>\n<style scoped>\n    .dataframe tbody tr th:only-of-type {\n        vertical-align: middle;\n    }\n\n    .dataframe tbody tr th {\n        vertical-align: top;\n    }\n\n    .dataframe thead th {\n        text-align: right;\n    }\n</style>\n<table border=\"1\" class=\"dataframe\">\n  <thead>\n    <tr style=\"text-align: right;\">\n      <th></th>\n      <th>Open</th>\n      <th>High</th>\n      <th>Low</th>\n      <th>Close</th>\n      <th>Volume</th>\n      <th>Dividends</th>\n      <th>Stock Splits</th>\n    </tr>\n    <tr>\n      <th>Date</th>\n      <th></th>\n      <th></th>\n      <th></th>\n      <th></th>\n      <th></th>\n      <th></th>\n      <th></th>\n    </tr>\n  </thead>\n  <tbody>\n    <tr>\n      <th>1980-12-12</th>\n      <td>0.099319</td>\n      <td>0.099750</td>\n      <td>0.099319</td>\n      <td>0.099319</td>\n      <td>469033600</td>\n      <td>0.0</td>\n      <td>0.0</td>\n    </tr>\n    <tr>\n      <th>1980-12-15</th>\n      <td>0.094569</td>\n      <td>0.094569</td>\n      <td>0.094137</td>\n      <td>0.094137</td>\n      <td>175884800</td>\n      <td>0.0</td>\n      <td>0.0</td>\n    </tr>\n    <tr>\n      <th>1980-12-16</th>\n      <td>0.087659</td>\n      <td>0.087659</td>\n      <td>0.087228</td>\n      <td>0.087228</td>\n      <td>105728000</td>\n      <td>0.0</td>\n      <td>0.0</td>\n    </tr>\n    <tr>\n      <th>1980-12-17</th>\n      <td>0.089387</td>\n      <td>0.089818</td>\n      <td>0.089387</td>\n      <td>0.089387</td>\n      <td>86441600</td>\n      <td>0.0</td>\n      <td>0.0</td>\n    </tr>\n    <tr>\n      <th>1980-12-18</th>\n      <td>0.091978</td>\n      <td>0.092410</td>\n      <td>0.091978</td>\n      <td>0.091978</td>\n      <td>73449600</td>\n      <td>0.0</td>\n      <td>0.0</td>\n    </tr>\n  </tbody>\n</table>\n</div>"
     },
     "execution_count": 73,
     "metadata": {},
     "output_type": "execute_result"
    }
   ],
   "source": [
    "apple_share_price_data.head()"
   ]
  },
  {
   "cell_type": "markdown",
   "metadata": {},
   "source": [
    "We can reset the index of the DataFrame with the `reset_index` function. We also set the `inplace` paramter to `True` so the change takes place to the DataFrame itself.\n"
   ]
  },
  {
   "cell_type": "code",
   "execution_count": 74,
   "metadata": {
    "tags": [],
    "ExecuteTime": {
     "end_time": "2023-12-05T09:29:00.278759Z",
     "start_time": "2023-12-05T09:29:00.255360Z"
    }
   },
   "outputs": [],
   "source": [
    "apple_share_price_data.reset_index(inplace=True)"
   ]
  },
  {
   "cell_type": "markdown",
   "metadata": {},
   "source": [
    "We can plot the `Open` price against the `Date`:\n"
   ]
  },
  {
   "cell_type": "code",
   "execution_count": 75,
   "metadata": {
    "tags": [],
    "ExecuteTime": {
     "end_time": "2023-12-05T09:29:01.710439Z",
     "start_time": "2023-12-05T09:29:01.406242Z"
    }
   },
   "outputs": [
    {
     "data": {
      "text/plain": "<Axes: xlabel='Date'>"
     },
     "execution_count": 75,
     "metadata": {},
     "output_type": "execute_result"
    },
    {
     "data": {
      "text/plain": "<Figure size 640x480 with 1 Axes>",
      "image/png": "[encoded data removed]"
     },
     "metadata": {},
     "output_type": "display_data"
    }
   ],
   "source": [
    "apple_share_price_data.plot(x=\"Date\", y=\"Open\")"
   ]
  },
  {
   "cell_type": "markdown",
   "metadata": {},
   "source": [
    "### Extracting Dividends\n"
   ]
  },
  {
   "cell_type": "markdown",
   "metadata": {},
   "source": [
    "Dividends are the distribution of a companys profits to shareholders. In this case they are defined as an amount of money returned per share an investor owns. Using the variable `dividends` we can get a dataframe of the data. The period of the data is given by the period defined in the 'history` function.\n"
   ]
  },
  {
   "cell_type": "code",
   "execution_count": 76,
   "metadata": {
    "tags": [],
    "ExecuteTime": {
     "end_time": "2023-12-05T09:29:03.716316Z",
     "start_time": "2023-12-05T09:29:03.698909Z"
    }
   },
   "outputs": [
    {
     "data": {
      "text/plain": "Date\n1987-05-11    0.000536\n1987-08-10    0.000536\n1987-11-17    0.000714\n1988-02-12    0.000714\n1988-05-16    0.000714\n                ...   \n2022-11-04    0.230000\n2023-02-10    0.230000\n2023-05-12    0.240000\n2023-08-11    0.240000\n2023-11-10    0.240000\nName: Dividends, Length: 81, dtype: float64"
     },
     "execution_count": 76,
     "metadata": {},
     "output_type": "execute_result"
    }
   ],
   "source": [
    "apple.dividends"
   ]
  },
  {
   "cell_type": "markdown",
   "metadata": {},
   "source": [
    "We can plot the dividends overtime:\n"
   ]
  },
  {
   "cell_type": "code",
   "execution_count": 77,
   "metadata": {
    "tags": [],
    "ExecuteTime": {
     "end_time": "2023-12-05T09:29:05.194423Z",
     "start_time": "2023-12-05T09:29:05.008459Z"
    }
   },
   "outputs": [
    {
     "data": {
      "text/plain": "<Axes: xlabel='Date'>"
     },
     "execution_count": 77,
     "metadata": {},
     "output_type": "execute_result"
    },
    {
     "data": {
      "text/plain": "<Figure size 640x480 with 1 Axes>",
      "image/png": "[encoded data removed]"
     },
     "metadata": {},
     "output_type": "display_data"
    }
   ],
   "source": [
    "apple.dividends.plot()"
   ]
  },
  {
   "cell_type": "markdown",
   "metadata": {},
   "source": [
    "## Exercise \n"
   ]
  },
  {
   "cell_type": "markdown",
   "metadata": {},
   "source": [
    "Now using the `Ticker` module create an object for AMD (Advanced Micro Devices) with the ticker symbol is `AMD` called; name the object <code>amd</code>.\n"
   ]
  },
  {
   "cell_type": "code",
   "execution_count": 78,
   "metadata": {
    "tags": [],
    "ExecuteTime": {
     "end_time": "2023-12-05T09:29:08.115645Z",
     "start_time": "2023-12-05T09:29:08.097484Z"
    }
   },
   "outputs": [],
   "source": [
    "amd = yf.Ticker(\"AMD\")"
   ]
  },
  {
   "cell_type": "code",
   "execution_count": 79,
   "metadata": {
    "tags": [],
    "ExecuteTime": {
     "end_time": "2023-12-05T09:29:09.520032Z",
     "start_time": "2023-12-05T09:29:08.496722Z"
    }
   },
   "outputs": [
    {
     "name": "stdout",
     "output_type": "stream",
     "text": [
      "--2023-12-05 10:29:08--  https://cf-courses-data.s3.us.cloud-object-storage.appdomain.cloud/IBMDeveloperSkillsNetwork-PY0220EN-SkillsNetwork/data/amd.json\r\n",
      "Resolving cf-courses-data.s3.us.cloud-object-storage.appdomain.cloud (cf-courses-data.s3.us.cloud-object-storage.appdomain.cloud)... 169.63.118.104\r\n",
      "Connecting to cf-courses-data.s3.us.cloud-object-storage.appdomain.cloud (cf-courses-data.s3.us.cloud-object-storage.appdomain.cloud)|169.63.118.104|:443... connected.\r\n",
      "HTTP request sent, awaiting response... 200 OK\r\n",
      "Length: 5838 (5.7K) [application/json]\r\n",
      "Saving to: ‘amd.json.2’\r\n",
      "\r\n",
      "amd.json.2          100%[===================>]   5.70K  --.-KB/s    in 0s      \r\n",
      "\r\n",
      "2023-12-05 10:29:09 (5.44 GB/s) - ‘amd.json.2’ saved [5838/5838]\r\n",
      "\r\n"
     ]
    }
   ],
   "source": [
    "!wget https://cf-courses-data.s3.us.cloud-object-storage.appdomain.cloud/IBMDeveloperSkillsNetwork-PY0220EN-SkillsNetwork/data/amd.json"
   ]
  },
  {
   "cell_type": "code",
   "execution_count": 80,
   "metadata": {
    "tags": [],
    "ExecuteTime": {
     "end_time": "2023-12-05T09:29:09.535260Z",
     "start_time": "2023-12-05T09:29:09.524172Z"
    }
   },
   "outputs": [
    {
     "data": {
      "text/plain": "{'zip': '95054',\n 'sector': 'Technology',\n 'fullTimeEmployees': 15500,\n 'longBusinessSummary': 'Advanced Micro Devices, Inc. operates as a semiconductor company worldwide. The company operates in two segments, Computing and Graphics; and Enterprise, Embedded and Semi-Custom. Its products include x86 microprocessors as an accelerated processing unit, chipsets, discrete and integrated graphics processing units (GPUs), data center and professional GPUs, and development services; and server and embedded processors, and semi-custom System-on-Chip (SoC) products, development services, and technology for game consoles. The company provides processors for desktop and notebook personal computers under the AMD Ryzen, AMD Ryzen PRO, Ryzen Threadripper, Ryzen Threadripper PRO, AMD Athlon, AMD Athlon PRO, AMD FX, AMD A-Series, and AMD PRO A-Series processors brands; discrete GPUs for desktop and notebook PCs under the AMD Radeon graphics, AMD Embedded Radeon graphics brands; and professional graphics products under the AMD Radeon Pro and AMD FirePro graphics brands. It also offers Radeon Instinct, Radeon PRO V-series, and AMD Instinct accelerators for servers; chipsets under the AMD trademark; microprocessors for servers under the AMD EPYC; embedded processor solutions under the AMD Athlon, AMD Geode, AMD Ryzen, AMD EPYC, AMD R-Series, and G-Series processors brands; and customer-specific solutions based on AMD CPU, GPU, and multi-media technologies, as well as semi-custom SoC products. It serves original equipment manufacturers, public cloud service providers, original design manufacturers, system integrators, independent distributors, online retailers, and add-in-board manufacturers through its direct sales force, independent distributors, and sales representatives. The company was incorporated in 1969 and is headquartered in Santa Clara, California.',\n 'city': 'Santa Clara',\n 'phone': '408 749 4000',\n 'state': 'CA',\n 'country': 'United States',\n 'companyOfficers': [],\n 'website': 'https://www.amd.com',\n 'maxAge': 1,\n 'address1': '2485 Augustine Drive',\n 'industry': 'Semiconductors',\n 'ebitdaMargins': 0.24674,\n 'profitMargins': 0.19240999,\n 'grossMargins': 0.48248002,\n 'operatingCashflow': 3520999936,\n 'revenueGrowth': 0.488,\n 'operatingMargins': 0.22198,\n 'ebitda': 4055000064,\n 'targetLowPrice': 107,\n 'recommendationKey': 'buy',\n 'grossProfits': 7929000000,\n 'freeCashflow': 3122749952,\n 'targetMedianPrice': 150,\n 'currentPrice': 119.22,\n 'earningsGrowth': -0.454,\n 'currentRatio': 2.024,\n 'returnOnAssets': 0.21327,\n 'numberOfAnalystOpinions': 38,\n 'targetMeanPrice': 152.02,\n 'debtToEquity': 9.764,\n 'returnOnEquity': 0.47428,\n 'targetHighPrice': 200,\n 'totalCash': 3608000000,\n 'totalDebt': 732000000,\n 'totalRevenue': 16433999872,\n 'totalCashPerShare': 3.008,\n 'financialCurrency': 'USD',\n 'revenuePerShare': 13.548,\n 'quickRatio': 1.49,\n 'recommendationMean': 2.2,\n 'exchange': 'NMS',\n 'shortName': 'Advanced Micro Devices, Inc.',\n 'longName': 'Advanced Micro Devices, Inc.',\n 'exchangeTimezoneName': 'America/New_York',\n 'exchangeTimezoneShortName': 'EDT',\n 'isEsgPopulated': False,\n 'gmtOffSetMilliseconds': '-14400000',\n 'quoteType': 'EQUITY',\n 'symbol': 'AMD',\n 'messageBoardId': 'finmb_168864',\n 'market': 'us_market',\n 'annualHoldingsTurnover': None,\n 'enterpriseToRevenue': 8.525,\n 'beta3Year': None,\n 'enterpriseToEbitda': 34.551,\n '52WeekChange': 0.51966953,\n 'morningStarRiskRating': None,\n 'forwardEps': 4.72,\n 'revenueQuarterlyGrowth': None,\n 'sharesOutstanding': 1627360000,\n 'fundInceptionDate': None,\n 'annualReportExpenseRatio': None,\n 'totalAssets': None,\n 'bookValue': 6.211,\n 'sharesShort': 27776129,\n 'sharesPercentSharesOut': 0.0171,\n 'fundFamily': None,\n 'lastFiscalYearEnd': 1640390400,\n 'heldPercentInstitutions': 0.52896,\n 'netIncomeToCommon': 3161999872,\n 'trailingEps': 2.57,\n 'lastDividendValue': 0.005,\n 'SandP52WeekChange': 0.15217662,\n 'priceToBook': 19.194977,\n 'heldPercentInsiders': 0.00328,\n 'nextFiscalYearEnd': 1703462400,\n 'yield': None,\n 'mostRecentQuarter': 1640390400,\n 'shortRatio': 0.24,\n 'sharesShortPreviousMonthDate': 1644883200,\n 'floatShares': 1193798619,\n 'beta': 1.848425,\n 'enterpriseValue': 140104957952,\n 'priceHint': 2,\n 'threeYearAverageReturn': None,\n 'lastSplitDate': 966902400,\n 'lastSplitFactor': '2:1',\n 'legalType': None,\n 'lastDividendDate': 798940800,\n 'morningStarOverallRating': None,\n 'earningsQuarterlyGrowth': -0.453,\n 'priceToSalesTrailing12Months': 11.805638,\n 'dateShortInterest': 1647302400,\n 'pegRatio': 0.99,\n 'ytdReturn': None,\n 'forwardPE': 25.258476,\n 'lastCapGain': None,\n 'shortPercentOfFloat': 0.0171,\n 'sharesShortPriorMonth': 88709340,\n 'impliedSharesOutstanding': 0,\n 'category': None,\n 'fiveYearAverageReturn': None,\n 'previousClose': 123.23,\n 'regularMarketOpen': 123.04,\n 'twoHundredDayAverage': 116.6998,\n 'trailingAnnualDividendYield': 0,\n 'payoutRatio': 0,\n 'volume24Hr': None,\n 'regularMarketDayHigh': 125.66,\n 'navPrice': None,\n 'averageDailyVolume10Day': 102167370,\n 'regularMarketPreviousClose': 123.23,\n 'fiftyDayAverage': 115.95,\n 'trailingAnnualDividendRate': 0,\n 'open': 123.04,\n 'toCurrency': None,\n 'averageVolume10days': 102167370,\n 'expireDate': None,\n 'algorithm': None,\n 'dividendRate': None,\n 'exDividendDate': 798940800,\n 'circulatingSupply': None,\n 'startDate': None,\n 'regularMarketDayLow': 118.59,\n 'currency': 'USD',\n 'trailingPE': 46.389107,\n 'regularMarketVolume': 99476946,\n 'lastMarket': None,\n 'maxSupply': None,\n 'openInterest': None,\n 'marketCap': 194013855744,\n 'volumeAllCurrencies': None,\n 'strikePrice': None,\n 'averageVolume': 102428813,\n 'dayLow': 118.59,\n 'ask': 117.24,\n 'askSize': 1100,\n 'volume': 99476946,\n 'fiftyTwoWeekHigh': 164.46,\n 'fromCurrency': None,\n 'fiveYearAvgDividendYield': None,\n 'fiftyTwoWeekLow': 72.5,\n 'bid': 117.24,\n 'tradeable': False,\n 'dividendYield': None,\n 'bidSize': 900,\n 'dayHigh': 125.66,\n 'regularMarketPrice': 119.22,\n 'preMarketPrice': 116.98,\n 'logo_url': 'https://logo.clearbit.com/amd.com'}"
     },
     "execution_count": 80,
     "metadata": {},
     "output_type": "execute_result"
    }
   ],
   "source": [
    "import json\n",
    "with open('amd.json') as json_file:\n",
    "    amd_info = json.load(json_file)\n",
    "    # Print the type of data variable    \n",
    "    #print(\"Type:\", type(apple_info))\n",
    "amd_info"
   ]
  },
  {
   "cell_type": "markdown",
   "metadata": {},
   "source": [
    "<b>Question 1</b> Use the key  <code>'country'</code> to find the country the stock belongs to, remember it as it will be a quiz question.\n"
   ]
  },
  {
   "cell_type": "code",
   "execution_count": 81,
   "metadata": {
    "tags": [],
    "ExecuteTime": {
     "end_time": "2023-12-05T09:29:09.697371Z",
     "start_time": "2023-12-05T09:29:09.686896Z"
    }
   },
   "outputs": [
    {
     "data": {
      "text/plain": "'United States'"
     },
     "execution_count": 81,
     "metadata": {},
     "output_type": "execute_result"
    }
   ],
   "source": [
    "amd_info['country']"
   ]
  },
  {
   "cell_type": "markdown",
   "metadata": {},
   "source": [
    "<b>Question 2</b> Use the key  <code>'sector'</code> to find the sector the stock belongs to, remember it as it will be a quiz question.\n"
   ]
  },
  {
   "cell_type": "code",
   "execution_count": 82,
   "metadata": {
    "tags": [],
    "ExecuteTime": {
     "end_time": "2023-12-05T09:29:10.520958Z",
     "start_time": "2023-12-05T09:29:10.509561Z"
    }
   },
   "outputs": [
    {
     "data": {
      "text/plain": "'Technology'"
     },
     "execution_count": 82,
     "metadata": {},
     "output_type": "execute_result"
    }
   ],
   "source": [
    "amd_info['sector']"
   ]
  },
  {
   "cell_type": "markdown",
   "metadata": {},
   "source": [
    "<b>Question 3</b> Obtain stock data for AMD using the `history` function, set the `period` to max. Find the `Volume` traded on the first day (first row).\n"
   ]
  },
  {
   "cell_type": "code",
   "execution_count": 83,
   "metadata": {
    "tags": [],
    "ExecuteTime": {
     "end_time": "2023-12-05T09:29:11.572688Z",
     "start_time": "2023-12-05T09:29:11.223626Z"
    }
   },
   "outputs": [
    {
     "data": {
      "text/plain": "            Open      High       Low     Close  Volume  Dividends  \\\nDate                                                                \n1980-03-17   0.0  3.302083  3.125000  3.145833  219600          0   \n1980-03-18   0.0  3.125000  2.937500  3.031250  727200          0   \n1980-03-19   0.0  3.083333  3.020833  3.041667  295200          0   \n1980-03-20   0.0  3.062500  3.010417  3.010417  159600          0   \n1980-03-21   0.0  3.020833  2.906250  2.916667  130800          0   \n\n            Stock Splits  \nDate                      \n1980-03-17           0.0  \n1980-03-18           0.0  \n1980-03-19           0.0  \n1980-03-20           0.0  \n1980-03-21           0.0  ",
      "text/html": "<div>\n<style scoped>\n    .dataframe tbody tr th:only-of-type {\n        vertical-align: middle;\n    }\n\n    .dataframe tbody tr th {\n        vertical-align: top;\n    }\n\n    .dataframe thead th {\n        text-align: right;\n    }\n</style>\n<table border=\"1\" class=\"dataframe\">\n  <thead>\n    <tr style=\"text-align: right;\">\n      <th></th>\n      <th>Open</th>\n      <th>High</th>\n      <th>Low</th>\n      <th>Close</th>\n      <th>Volume</th>\n      <th>Dividends</th>\n      <th>Stock Splits</th>\n    </tr>\n    <tr>\n      <th>Date</th>\n      <th></th>\n      <th></th>\n      <th></th>\n      <th></th>\n      <th></th>\n      <th></th>\n      <th></th>\n    </tr>\n  </thead>\n  <tbody>\n    <tr>\n      <th>1980-03-17</th>\n      <td>0.0</td>\n      <td>3.302083</td>\n      <td>3.125000</td>\n      <td>3.145833</td>\n      <td>219600</td>\n      <td>0</td>\n      <td>0.0</td>\n    </tr>\n    <tr>\n      <th>1980-03-18</th>\n      <td>0.0</td>\n      <td>3.125000</td>\n      <td>2.937500</td>\n      <td>3.031250</td>\n      <td>727200</td>\n      <td>0</td>\n      <td>0.0</td>\n    </tr>\n    <tr>\n      <th>1980-03-19</th>\n      <td>0.0</td>\n      <td>3.083333</td>\n      <td>3.020833</td>\n      <td>3.041667</td>\n      <td>295200</td>\n      <td>0</td>\n      <td>0.0</td>\n    </tr>\n    <tr>\n      <th>1980-03-20</th>\n      <td>0.0</td>\n      <td>3.062500</td>\n      <td>3.010417</td>\n      <td>3.010417</td>\n      <td>159600</td>\n      <td>0</td>\n      <td>0.0</td>\n    </tr>\n    <tr>\n      <th>1980-03-21</th>\n      <td>0.0</td>\n      <td>3.020833</td>\n      <td>2.906250</td>\n      <td>2.916667</td>\n      <td>130800</td>\n      <td>0</td>\n      <td>0.0</td>\n    </tr>\n  </tbody>\n</table>\n</div>"
     },
     "execution_count": 83,
     "metadata": {},
     "output_type": "execute_result"
    }
   ],
   "source": [
    "amd_price_data=amd.history(period='max')\n",
    "amd_price_data.head()"
   ]
  },
  {
   "cell_type": "markdown",
   "metadata": {},
   "source": [
    "<h2>About the Authors:</h2> \n",
    "\n",
    "<a href=\"https://www.linkedin.com/in/joseph-s-50398b136/?utm_medium=Exinfluencer&utm_source=Exinfluencer&utm_content=000026UJ&utm_term=10006555&utm_id=NA-SkillsNetwork-Channel-SkillsNetworkCoursesIBMDeveloperSkillsNetworkPY0220ENSkillsNetwork900-2022-01-01\">Joseph Santarcangelo</a> has a PhD in Electrical Engineering, his research focused on using machine learning, signal processing, and computer vision to determine how videos impact human cognition. Joseph has been working for IBM since he completed his PhD.\n",
    "\n",
    "Azim Hirjani\n"
   ]
  },
  {
   "cell_type": "markdown",
   "metadata": {},
   "source": [
    "## Change Log\n",
    "\n",
    "| Date (YYYY-MM-DD) | Version | Changed By    | Change Description        |\n",
    "| ----------------- | ------- | ------------- | ------------------------- |\n",
    "| 2020-11-10        | 1.1     | Malika Singla | Deleted the Optional part |\n",
    "| 2020-08-27        | 1.0     | Malika Singla | Added lab to GitLab       |\n",
    "\n",
    "<hr>\n",
    "\n",
    "## <h3 align=\"center\"> © IBM Corporation 2020. All rights reserved. <h3/>\n",
    "\n",
    "<p>\n"
   ]
  },
  {
   "cell_type": "code",
   "execution_count": 83,
   "outputs": [],
   "source": [],
   "metadata": {
    "collapsed": false,
    "ExecuteTime": {
     "end_time": "2023-12-05T09:29:12.396619Z",
     "start_time": "2023-12-05T09:29:12.380353Z"
    }
   }
  },
  {
   "cell_type": "code",
   "execution_count": 83,
   "outputs": [],
   "source": [],
   "metadata": {
    "collapsed": false,
    "ExecuteTime": {
     "end_time": "2023-12-05T09:29:13.025184Z",
     "start_time": "2023-12-05T09:29:12.955584Z"
    }
   }
  },
  {
   "cell_type": "code",
   "execution_count": null,
   "outputs": [],
   "source": [],
   "metadata": {
    "collapsed": false
   }
  }
 ],
 "metadata": {
  "kernelspec": {
   "name": "python3",
   "language": "python",
   "display_name": "Python 3 (ipykernel)"
  },
  "language_info": {
   "codemirror_mode": {
    "name": "ipython",
    "version": 3
   },
   "file_extension": ".py",
   "mimetype": "text/x-python",
   "name": "python",
   "nbconvert_exporter": "python",
   "pygments_lexer": "ipython3",
   "version": "3.7.12"
  }
 },
 "nbformat": 4,
 "nbformat_minor": 4
}
